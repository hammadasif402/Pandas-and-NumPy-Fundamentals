{
 "cells": [
  {
   "cell_type": "code",
   "execution_count": 1,
   "metadata": {},
   "outputs": [],
   "source": [
    "import numpy as np\n",
    "import pandas as pd\n",
    "\n",
    "f500 = pd.read_csv(\"f500.csv\")\n",
    "# This is the more conventional way to read in a dataframe, and it's the method we'll use from here on.\n"
   ]
  },
  {
   "cell_type": "code",
   "execution_count": 2,
   "metadata": {},
   "outputs": [],
   "source": [
    "# replace 0 values in the \"previous_rank\" column with NaN\\\n",
    "\n",
    "f500.loc[f500[\"previous_rank\"] == 0, \"previous_rank\"] = np.nan"
   ]
  },
  {
   "cell_type": "code",
   "execution_count": 3,
   "metadata": {},
   "outputs": [
    {
     "data": {
      "text/html": [
       "<div>\n",
       "<style scoped>\n",
       "    .dataframe tbody tr th:only-of-type {\n",
       "        vertical-align: middle;\n",
       "    }\n",
       "\n",
       "    .dataframe tbody tr th {\n",
       "        vertical-align: top;\n",
       "    }\n",
       "\n",
       "    .dataframe thead th {\n",
       "        text-align: right;\n",
       "    }\n",
       "</style>\n",
       "<table border=\"1\" class=\"dataframe\">\n",
       "  <thead>\n",
       "    <tr style=\"text-align: right;\">\n",
       "      <th></th>\n",
       "      <th>rank</th>\n",
       "      <th>revenues</th>\n",
       "      <th>revenue_change</th>\n",
       "    </tr>\n",
       "  </thead>\n",
       "  <tbody>\n",
       "    <tr>\n",
       "      <th>0</th>\n",
       "      <td>1</td>\n",
       "      <td>485873</td>\n",
       "      <td>0.8</td>\n",
       "    </tr>\n",
       "    <tr>\n",
       "      <th>1</th>\n",
       "      <td>2</td>\n",
       "      <td>315199</td>\n",
       "      <td>-4.4</td>\n",
       "    </tr>\n",
       "    <tr>\n",
       "      <th>2</th>\n",
       "      <td>3</td>\n",
       "      <td>267518</td>\n",
       "      <td>-9.1</td>\n",
       "    </tr>\n",
       "    <tr>\n",
       "      <th>3</th>\n",
       "      <td>4</td>\n",
       "      <td>262573</td>\n",
       "      <td>-12.3</td>\n",
       "    </tr>\n",
       "    <tr>\n",
       "      <th>4</th>\n",
       "      <td>5</td>\n",
       "      <td>254694</td>\n",
       "      <td>7.7</td>\n",
       "    </tr>\n",
       "  </tbody>\n",
       "</table>\n",
       "</div>"
      ],
      "text/plain": [
       "   rank  revenues  revenue_change\n",
       "0     1    485873             0.8\n",
       "1     2    315199            -4.4\n",
       "2     3    267518            -9.1\n",
       "3     4    262573           -12.3\n",
       "4     5    254694             7.7"
      ]
     },
     "execution_count": 3,
     "metadata": {},
     "output_type": "execute_result"
    }
   ],
   "source": [
    "# Select the rank, revenues, and revenue_change columns in f500\n",
    "f500_selection = f500[[\"rank\",\"revenues\",\"revenue_change\"]].head()\n",
    "f500_selection"
   ]
  },
  {
   "cell_type": "markdown",
   "metadata": {},
   "source": [
    "When we worked with a dataframe with string index labels, we used `loc[]` to select data:\n",
    "\n",
    "In some scenarios, using labels to make selections makes things easier — in others though, it makes things harder."
   ]
  },
  {
   "cell_type": "markdown",
   "metadata": {},
   "source": [
    "Just like in NumPy, we can also use integer positions to select data using `Dataframe.iloc[]` and `Series.iloc[]`. It's easy to get `loc[]` and `iloc[]` confused at first, but the easiest way is to remember the first letter of each method:\n",
    "\n",
    "* `loc`: label based selection\n",
    "* `iloc`: integer position based selection"
   ]
  },
  {
   "cell_type": "code",
   "execution_count": 4,
   "metadata": {},
   "outputs": [],
   "source": [
    "# elect just the fifth row of the f500 dataframe\n",
    "fifth_row = f500.iloc[4]"
   ]
  },
  {
   "cell_type": "code",
   "execution_count": 5,
   "metadata": {},
   "outputs": [],
   "source": [
    "# Select the value in first row of the company column.\n",
    "company_value = f500.iloc[0,0]"
   ]
  },
  {
   "cell_type": "markdown",
   "metadata": {},
   "source": [
    "`loc[]` handles slicing differently:\n",
    "\n",
    "- With `loc[]`, the ending slice is included.\n",
    "- With `iloc[]`, the ending slice is not included."
   ]
  },
  {
   "cell_type": "code",
   "execution_count": 6,
   "metadata": {},
   "outputs": [],
   "source": [
    "# Select the first three rows of the f500 dataframe\n",
    "first_three_rows = f500[:3] # or f500.iloc[:3]\n"
   ]
  },
  {
   "cell_type": "code",
   "execution_count": 7,
   "metadata": {},
   "outputs": [],
   "source": [
    "# Select the first and seventh rows and the first five columns of the f500 dataframe\n",
    "first_seventh_row_slice = f500.iloc[[0,6],0:5]"
   ]
  },
  {
   "cell_type": "markdown",
   "metadata": {},
   "source": [
    "When we really only want to access a single location, it is recommended to use the `DataFrame.iat` property. It has the same syntax but doesn't allow ranges."
   ]
  },
  {
   "cell_type": "code",
   "execution_count": 3,
   "metadata": {},
   "outputs": [
    {
     "data": {
      "text/plain": [
       "'State Grid'"
      ]
     },
     "execution_count": 3,
     "metadata": {},
     "output_type": "execute_result"
    }
   ],
   "source": [
    "f500.iat[1, 0]"
   ]
  },
  {
   "cell_type": "markdown",
   "metadata": {},
   "source": [
    "As with the `iloc` property, when we only want a specific cell, it is better to use the `DataFrame.at` property. Here is an example:"
   ]
  },
  {
   "cell_type": "code",
   "execution_count": 4,
   "metadata": {},
   "outputs": [
    {
     "data": {
      "text/plain": [
       "2"
      ]
     },
     "execution_count": 4,
     "metadata": {},
     "output_type": "execute_result"
    }
   ],
   "source": [
    "f500.at[1, \"rank\"]"
   ]
  },
  {
   "cell_type": "markdown",
   "metadata": {},
   "source": [
    "We used Python boolean operators like `>`, `<`, and `==` to create boolean masks to select subsets of data. There are also a number of pandas methods that return boolean masks useful for exploring data."
   ]
  },
  {
   "cell_type": "markdown",
   "metadata": {},
   "source": [
    "Two examples are the `Series.isnull()` method and `Series.notnull()` method. These can be used to select either rows that contain null (or NaN) values or rows that do not contain null values for a certain column."
   ]
  },
  {
   "cell_type": "code",
   "execution_count": 8,
   "metadata": {},
   "outputs": [],
   "source": [
    "# Use the Series.isnull() method to select all rows from f500 that have a null value for the previous_rank column. \n",
    "# Select only the company, rank, and previous_rank columns\n",
    "null_previous_rank = f500.loc[f500[\"previous_rank\"].isnull(),\n",
    "                              [\"company\", \"rank\", \"previous_rank\"]]\n"
   ]
  },
  {
   "cell_type": "code",
   "execution_count": 9,
   "metadata": {},
   "outputs": [],
   "source": [
    "previously_ranked = f500[f500[\"previous_rank\"].notnull()]\n",
    "rank_change = previously_ranked[\"rank\"] - previously_ranked[\"previous_rank\"]"
   ]
  },
  {
   "cell_type": "code",
   "execution_count": 10,
   "metadata": {},
   "outputs": [
    {
     "data": {
      "text/html": [
       "<div>\n",
       "<style scoped>\n",
       "    .dataframe tbody tr th:only-of-type {\n",
       "        vertical-align: middle;\n",
       "    }\n",
       "\n",
       "    .dataframe tbody tr th {\n",
       "        vertical-align: top;\n",
       "    }\n",
       "\n",
       "    .dataframe thead th {\n",
       "        text-align: right;\n",
       "    }\n",
       "</style>\n",
       "<table border=\"1\" class=\"dataframe\">\n",
       "  <thead>\n",
       "    <tr style=\"text-align: right;\">\n",
       "      <th></th>\n",
       "      <th>company</th>\n",
       "      <th>rank</th>\n",
       "      <th>revenues</th>\n",
       "      <th>revenue_change</th>\n",
       "      <th>profits</th>\n",
       "      <th>assets</th>\n",
       "      <th>profit_change</th>\n",
       "      <th>ceo</th>\n",
       "      <th>industry</th>\n",
       "      <th>sector</th>\n",
       "      <th>previous_rank</th>\n",
       "      <th>country</th>\n",
       "      <th>hq_location</th>\n",
       "      <th>website</th>\n",
       "      <th>years_on_global_500_list</th>\n",
       "      <th>employees</th>\n",
       "      <th>total_stockholder_equity</th>\n",
       "    </tr>\n",
       "  </thead>\n",
       "  <tbody>\n",
       "    <tr>\n",
       "      <th>48</th>\n",
       "      <td>Legal &amp; General Group</td>\n",
       "      <td>49</td>\n",
       "      <td>105235</td>\n",
       "      <td>442.3</td>\n",
       "      <td>1697.9</td>\n",
       "      <td>577954</td>\n",
       "      <td>3.4</td>\n",
       "      <td>Nigel Wilson</td>\n",
       "      <td>Insurance: Life, Health (stock)</td>\n",
       "      <td>Financials</td>\n",
       "      <td>NaN</td>\n",
       "      <td>Britain</td>\n",
       "      <td>London, Britain</td>\n",
       "      <td>http://www.legalandgeneralgroup.com</td>\n",
       "      <td>17</td>\n",
       "      <td>8939</td>\n",
       "      <td>8579</td>\n",
       "    </tr>\n",
       "    <tr>\n",
       "      <th>90</th>\n",
       "      <td>Uniper</td>\n",
       "      <td>91</td>\n",
       "      <td>74407</td>\n",
       "      <td>NaN</td>\n",
       "      <td>-3557.5</td>\n",
       "      <td>51541</td>\n",
       "      <td>NaN</td>\n",
       "      <td>Klaus Schafer</td>\n",
       "      <td>Energy</td>\n",
       "      <td>Energy</td>\n",
       "      <td>NaN</td>\n",
       "      <td>Germany</td>\n",
       "      <td>Dusseldorf, Germany</td>\n",
       "      <td>http://www.uniper.energy</td>\n",
       "      <td>1</td>\n",
       "      <td>12890</td>\n",
       "      <td>12889</td>\n",
       "    </tr>\n",
       "    <tr>\n",
       "      <th>123</th>\n",
       "      <td>Dell Technologies</td>\n",
       "      <td>124</td>\n",
       "      <td>64806</td>\n",
       "      <td>18.1</td>\n",
       "      <td>-1672.0</td>\n",
       "      <td>118206</td>\n",
       "      <td>NaN</td>\n",
       "      <td>Michael S. Dell</td>\n",
       "      <td>Computers, Office Equipment</td>\n",
       "      <td>Technology</td>\n",
       "      <td>NaN</td>\n",
       "      <td>USA</td>\n",
       "      <td>Round Rock, TX</td>\n",
       "      <td>http://www.delltechnologies.com</td>\n",
       "      <td>17</td>\n",
       "      <td>138000</td>\n",
       "      <td>13243</td>\n",
       "    </tr>\n",
       "    <tr>\n",
       "      <th>138</th>\n",
       "      <td>Anbang Insurance Group</td>\n",
       "      <td>139</td>\n",
       "      <td>60800</td>\n",
       "      <td>124.0</td>\n",
       "      <td>3883.9</td>\n",
       "      <td>430040</td>\n",
       "      <td>0.9</td>\n",
       "      <td>Wu Xiaohui</td>\n",
       "      <td>Insurance: Life, Health (Mutual)</td>\n",
       "      <td>Financials</td>\n",
       "      <td>NaN</td>\n",
       "      <td>China</td>\n",
       "      <td>Beijing, China</td>\n",
       "      <td>http://www.anbanggroup.com</td>\n",
       "      <td>1</td>\n",
       "      <td>40707</td>\n",
       "      <td>20372</td>\n",
       "    </tr>\n",
       "    <tr>\n",
       "      <th>140</th>\n",
       "      <td>Albertsons Cos.</td>\n",
       "      <td>141</td>\n",
       "      <td>59678</td>\n",
       "      <td>1.6</td>\n",
       "      <td>-373.3</td>\n",
       "      <td>23755</td>\n",
       "      <td>NaN</td>\n",
       "      <td>Robert G. Miller</td>\n",
       "      <td>Food and Drug Stores</td>\n",
       "      <td>Food &amp; Drug Stores</td>\n",
       "      <td>NaN</td>\n",
       "      <td>USA</td>\n",
       "      <td>Boise, ID</td>\n",
       "      <td>http://www.albertsons.com</td>\n",
       "      <td>13</td>\n",
       "      <td>273000</td>\n",
       "      <td>1371</td>\n",
       "    </tr>\n",
       "  </tbody>\n",
       "</table>\n",
       "</div>"
      ],
      "text/plain": [
       "                    company  rank  revenues  revenue_change  profits  assets  \\\n",
       "48    Legal & General Group    49    105235           442.3   1697.9  577954   \n",
       "90                   Uniper    91     74407             NaN  -3557.5   51541   \n",
       "123       Dell Technologies   124     64806            18.1  -1672.0  118206   \n",
       "138  Anbang Insurance Group   139     60800           124.0   3883.9  430040   \n",
       "140         Albertsons Cos.   141     59678             1.6   -373.3   23755   \n",
       "\n",
       "     profit_change               ceo                          industry  \\\n",
       "48             3.4      Nigel Wilson   Insurance: Life, Health (stock)   \n",
       "90             NaN     Klaus Schafer                            Energy   \n",
       "123            NaN   Michael S. Dell       Computers, Office Equipment   \n",
       "138            0.9        Wu Xiaohui  Insurance: Life, Health (Mutual)   \n",
       "140            NaN  Robert G. Miller              Food and Drug Stores   \n",
       "\n",
       "                 sector  previous_rank  country          hq_location  \\\n",
       "48           Financials            NaN  Britain      London, Britain   \n",
       "90               Energy            NaN  Germany  Dusseldorf, Germany   \n",
       "123          Technology            NaN      USA       Round Rock, TX   \n",
       "138          Financials            NaN    China       Beijing, China   \n",
       "140  Food & Drug Stores            NaN      USA            Boise, ID   \n",
       "\n",
       "                                 website  years_on_global_500_list  employees  \\\n",
       "48   http://www.legalandgeneralgroup.com                        17       8939   \n",
       "90              http://www.uniper.energy                         1      12890   \n",
       "123      http://www.delltechnologies.com                        17     138000   \n",
       "138           http://www.anbanggroup.com                         1      40707   \n",
       "140            http://www.albertsons.com                        13     273000   \n",
       "\n",
       "     total_stockholder_equity  \n",
       "48                       8579  \n",
       "90                      12889  \n",
       "123                     13243  \n",
       "138                     20372  \n",
       "140                      1371  "
      ]
     },
     "execution_count": 10,
     "metadata": {},
     "output_type": "execute_result"
    }
   ],
   "source": [
    "null_previous_rank = f500[f500[\"previous_rank\"].isnull()]\n",
    "# Assign the first five rows of the null_previous_rank dataframe to the variable top5_null_prev_rank by choosing the correct method out of either loc[] or iloc[].\n",
    "top5_null_prev_rank = null_previous_rank[0:5] # or we can use iloc[:5] or.head()\n",
    "top5_null_prev_rank"
   ]
  },
  {
   "cell_type": "code",
   "execution_count": 11,
   "metadata": {},
   "outputs": [
    {
     "name": "stdout",
     "output_type": "stream",
     "text": [
      "467\n",
      "    company  rank  revenues  revenue_change  profits  assets  profit_change  \\\n",
      "498     TUI   499     21655            -5.5   1151.7   16247          195.5   \n",
      "\n",
      "                   ceo         industry             sector  previous_rank  \\\n",
      "498  Friedrich Joussen  Travel Services  Business Services          467.0   \n",
      "\n",
      "     country       hq_location                  website  \\\n",
      "498  Germany  Hanover, Germany  http://www.tuigroup.com   \n",
      "\n",
      "     years_on_global_500_list  employees  total_stockholder_equity  \n",
      "498                        23      66779                      3006  \n"
     ]
    }
   ],
   "source": [
    "# Use the Series.notnull() method to select all rows from f500 that have a non-null value for the previous_rank column.\n",
    "previously_ranked =f500.loc[f500[\"previous_rank\"].notnull()]\n",
    "print(previously_ranked.shape[0])\n",
    "print(previously_ranked.tail(1))\n"
   ]
  },
  {
   "cell_type": "code",
   "execution_count": 12,
   "metadata": {},
   "outputs": [],
   "source": [
    "# From the previously_ranked dataframe, subtract the rank column from the previous_rank column.\n",
    "rank_change = previously_ranked[\"previous_rank\"] - previously_ranked[\"rank\"]"
   ]
  },
  {
   "cell_type": "code",
   "execution_count": 13,
   "metadata": {},
   "outputs": [],
   "source": [
    "# Assign the values in the rank_change to a new column in the f500 dataframe\n",
    "\n",
    "f500[\"rank_change\"] = rank_change"
   ]
  },
  {
   "cell_type": "markdown",
   "metadata": {},
   "source": [
    "Pandas will ignore the order of the `rank_change` series, and align on the  `rank_change` index labels with `f500`  `rank_change`. \n",
    "\n",
    "Pandas will also:\n",
    "\n",
    "* Discard any items that have an index that doesn't match the dataframe.\n",
    "* Fill any remaining rows with `NaN`"
   ]
  },
  {
   "cell_type": "code",
   "execution_count": 14,
   "metadata": {},
   "outputs": [
    {
     "data": {
      "text/plain": [
       "48    NaN\n",
       "90    NaN\n",
       "123   NaN\n",
       "138   NaN\n",
       "140   NaN\n",
       "Name: rank_change, dtype: float64"
      ]
     },
     "execution_count": 14,
     "metadata": {},
     "output_type": "execute_result"
    }
   ],
   "source": [
    "f500.loc[f500[\"rank_change\"] .isnull(), \"rank_change\"].head()"
   ]
  },
  {
   "cell_type": "markdown",
   "metadata": {},
   "source": [
    "# comparison operators in pandas and Numpy: \n",
    "\n",
    "* `==` (equal), \n",
    "* `>` (greater than),\n",
    "* `<` (less than), \n",
    "* `!=` (not equal) etc."
   ]
  },
  {
   "cell_type": "markdown",
   "metadata": {},
   "source": [
    "# Logical opertator in Pandas and Numpy\n",
    "\n",
    "* `&` (and), \n",
    "* `|` (or) , \n",
    "* `~` (not)"
   ]
  },
  {
   "cell_type": "code",
   "execution_count": 15,
   "metadata": {},
   "outputs": [
    {
     "data": {
      "text/html": [
       "<div>\n",
       "<style scoped>\n",
       "    .dataframe tbody tr th:only-of-type {\n",
       "        vertical-align: middle;\n",
       "    }\n",
       "\n",
       "    .dataframe tbody tr th {\n",
       "        vertical-align: top;\n",
       "    }\n",
       "\n",
       "    .dataframe thead th {\n",
       "        text-align: right;\n",
       "    }\n",
       "</style>\n",
       "<table border=\"1\" class=\"dataframe\">\n",
       "  <thead>\n",
       "    <tr style=\"text-align: right;\">\n",
       "      <th></th>\n",
       "      <th>company</th>\n",
       "      <th>rank</th>\n",
       "      <th>revenues</th>\n",
       "      <th>revenue_change</th>\n",
       "      <th>profits</th>\n",
       "      <th>assets</th>\n",
       "      <th>profit_change</th>\n",
       "      <th>ceo</th>\n",
       "      <th>industry</th>\n",
       "      <th>sector</th>\n",
       "      <th>previous_rank</th>\n",
       "      <th>country</th>\n",
       "      <th>hq_location</th>\n",
       "      <th>website</th>\n",
       "      <th>years_on_global_500_list</th>\n",
       "      <th>employees</th>\n",
       "      <th>total_stockholder_equity</th>\n",
       "      <th>rank_change</th>\n",
       "    </tr>\n",
       "  </thead>\n",
       "  <tbody>\n",
       "    <tr>\n",
       "      <th>32</th>\n",
       "      <td>Japan Post Holdings</td>\n",
       "      <td>33</td>\n",
       "      <td>122990</td>\n",
       "      <td>3.6</td>\n",
       "      <td>-267.4</td>\n",
       "      <td>2631385</td>\n",
       "      <td>-107.5</td>\n",
       "      <td>Masatsugu Nagato</td>\n",
       "      <td>Insurance: Life, Health (stock)</td>\n",
       "      <td>Financials</td>\n",
       "      <td>37.0</td>\n",
       "      <td>Japan</td>\n",
       "      <td>Tokyo, Japan</td>\n",
       "      <td>http://www.japanpost.jp</td>\n",
       "      <td>21</td>\n",
       "      <td>248384</td>\n",
       "      <td>91532</td>\n",
       "      <td>4.0</td>\n",
       "    </tr>\n",
       "    <tr>\n",
       "      <th>44</th>\n",
       "      <td>Chevron</td>\n",
       "      <td>45</td>\n",
       "      <td>107567</td>\n",
       "      <td>-18.0</td>\n",
       "      <td>-497.0</td>\n",
       "      <td>260078</td>\n",
       "      <td>-110.8</td>\n",
       "      <td>John S. Watson</td>\n",
       "      <td>Petroleum Refining</td>\n",
       "      <td>Energy</td>\n",
       "      <td>31.0</td>\n",
       "      <td>USA</td>\n",
       "      <td>San Ramon, CA</td>\n",
       "      <td>http://www.chevron.com</td>\n",
       "      <td>23</td>\n",
       "      <td>55200</td>\n",
       "      <td>145556</td>\n",
       "      <td>-14.0</td>\n",
       "    </tr>\n",
       "  </tbody>\n",
       "</table>\n",
       "</div>"
      ],
      "text/plain": [
       "                company  rank  revenues  revenue_change  profits   assets  \\\n",
       "32  Japan Post Holdings    33    122990             3.6   -267.4  2631385   \n",
       "44              Chevron    45    107567           -18.0   -497.0   260078   \n",
       "\n",
       "    profit_change               ceo                         industry  \\\n",
       "32         -107.5  Masatsugu Nagato  Insurance: Life, Health (stock)   \n",
       "44         -110.8    John S. Watson               Petroleum Refining   \n",
       "\n",
       "        sector  previous_rank country    hq_location                  website  \\\n",
       "32  Financials           37.0   Japan   Tokyo, Japan  http://www.japanpost.jp   \n",
       "44      Energy           31.0     USA  San Ramon, CA   http://www.chevron.com   \n",
       "\n",
       "    years_on_global_500_list  employees  total_stockholder_equity  rank_change  \n",
       "32                        21     248384                     91532          4.0  \n",
       "44                        23      55200                    145556        -14.0  "
      ]
     },
     "execution_count": 15,
     "metadata": {},
     "output_type": "execute_result"
    }
   ],
   "source": [
    "large_revenue = f500[\"revenues\"]>100000 # companies with revenues greater than 100 billion\n",
    "\n",
    "negative_profits = f500[\"profits\"] < 0 # companies with profits less than 0.\n",
    "\n",
    "combined = large_revenue & negative_profits\n",
    "\n",
    "big_rev_neg_profit = f500.loc[combined]\n",
    "big_rev_neg_profit"
   ]
  },
  {
   "cell_type": "code",
   "execution_count": 16,
   "metadata": {},
   "outputs": [],
   "source": [
    "# Tech companies outside USA\n",
    "tech_outside_usa = f500[(f500[\"sector\"] == \"Technology\") & ~ (f500[\"country\"] == \"USA\")].head()\n",
    "\n",
    "# We used parentheses around each of our boolean comparisons. \n",
    "# This is very important — our boolean operation will fail without parentheses. "
   ]
  },
  {
   "cell_type": "code",
   "execution_count": 17,
   "metadata": {},
   "outputs": [],
   "source": [
    "# Select all rows for companies headquartered in either Brazil or Venezuela.\n",
    "brazil_venezuela = f500[(f500[\"country\"] == \"Brazil\") |(f500[\"country\"] == \"Venezuela\")]"
   ]
  },
  {
   "cell_type": "markdown",
   "metadata": {},
   "source": [
    "# Find the company headquartered in Japan with the largest number of employees."
   ]
  },
  {
   "cell_type": "code",
   "execution_count": 18,
   "metadata": {},
   "outputs": [
    {
     "data": {
      "text/plain": [
       "'Toyota Motor'"
      ]
     },
     "execution_count": 18,
     "metadata": {},
     "output_type": "execute_result"
    }
   ],
   "source": [
    "sorted_rows = f500[f500[\"country\"] == \"Japan\"] # Select only the rows that have a country name equal to Japan\n",
    "sorted_rows.sort_values(\"employees\", ascending = False) # sort those rows by the employees column in descending order\n",
    "top_employer = sorted_rows.iloc[0] # select the first row from the sorted dataframe\n",
    "top_japanese_employer = top_employer[\"company\"]\n",
    "top_japanese_employer"
   ]
  },
  {
   "cell_type": "markdown",
   "metadata": {},
   "source": [
    "Japanese company that employs the most people is `Toyota Motor`"
   ]
  },
  {
   "cell_type": "markdown",
   "metadata": {},
   "source": [
    "We've explicitly avoided using loops in pandas because one of the key benefits of pandas is that it has vectorized methods to work with data more efficiently.\n",
    "\n",
    "We'll learn how to use loops for aggregation. Aggregation is where we apply a statistical operation to groups of our data."
   ]
  },
  {
   "cell_type": "code",
   "execution_count": 19,
   "metadata": {},
   "outputs": [
    {
     "data": {
      "text/plain": [
       "{'USA': 'Walmart',\n",
       " 'China': 'China National Petroleum',\n",
       " 'Japan': 'Toyota Motor',\n",
       " 'Germany': 'Volkswagen',\n",
       " 'Netherlands': 'EXOR Group',\n",
       " 'Britain': 'Compass Group',\n",
       " 'South Korea': 'Samsung Electronics',\n",
       " 'Switzerland': 'Nestle',\n",
       " 'France': 'Sodexo',\n",
       " 'Taiwan': 'Hon Hai Precision Industry',\n",
       " 'Singapore': 'Flex',\n",
       " 'Italy': 'Poste Italiane',\n",
       " 'Russia': 'Gazprom',\n",
       " 'Spain': 'Banco Santander',\n",
       " 'Brazil': 'JBS',\n",
       " 'Mexico': 'America Movil',\n",
       " 'Luxembourg': 'ArcelorMittal',\n",
       " 'India': 'State Bank of India',\n",
       " 'Malaysia': 'Petronas',\n",
       " 'Thailand': 'PTT',\n",
       " 'Australia': 'Wesfarmers',\n",
       " 'Belgium': 'Anheuser-Busch InBev',\n",
       " 'Norway': 'Statoil',\n",
       " 'Canada': 'George Weston',\n",
       " 'Ireland': 'Accenture',\n",
       " 'Indonesia': 'Pertamina',\n",
       " 'Denmark': 'Maersk Group',\n",
       " 'Saudi Arabia': 'SABIC',\n",
       " 'Sweden': 'H & M Hennes & Mauritz',\n",
       " 'Finland': 'Nokia',\n",
       " 'Venezuela': 'Mercantil Servicios Financieros',\n",
       " 'Turkey': 'Koc Holding',\n",
       " 'U.A.E': 'Emirates Group',\n",
       " 'Israel': 'Teva Pharmaceutical Industries'}"
      ]
     },
     "execution_count": 19,
     "metadata": {},
     "output_type": "execute_result"
    }
   ],
   "source": [
    "top_employer_by_country = {}\n",
    "\n",
    "countries = f500[\"country\"].unique() # To identify the unique countries, we can use the Series.unique() method.\n",
    "\n",
    "for c in countries:\n",
    "    df = f500[f500[\"country\"] == c]\n",
    "    sort_employees = df.sort_values(\"employees\", ascending = False)\n",
    "    top_employer = sort_employees[\"company\"]\n",
    "    top_employer_by_country[c] = top_employer.iloc[0]\n",
    "    \n",
    "top_employer_by_country \n",
    "    "
   ]
  },
  {
   "cell_type": "code",
   "execution_count": 34,
   "metadata": {},
   "outputs": [
    {
     "data": {
      "text/plain": [
       "country\n",
       "Australia                            Wesfarmers\n",
       "Belgium                    Anheuser-Busch InBev\n",
       "Brazil                                      JBS\n",
       "Britain                           Compass Group\n",
       "Canada                            George Weston\n",
       "China                  China National Petroleum\n",
       "Denmark                            Maersk Group\n",
       "Finland                                   Nokia\n",
       "France                                   Sodexo\n",
       "Germany                              Volkswagen\n",
       "India                       State Bank of India\n",
       "Indonesia                             Pertamina\n",
       "Ireland                               Accenture\n",
       "Israel           Teva Pharmaceutical Industries\n",
       "Italy                            Poste Italiane\n",
       "Japan                              Toyota Motor\n",
       "Luxembourg                        ArcelorMittal\n",
       "Malaysia                               Petronas\n",
       "Mexico                            America Movil\n",
       "Netherlands                          EXOR Group\n",
       "Norway                                  Statoil\n",
       "Russia                                  Gazprom\n",
       "Saudi Arabia                              SABIC\n",
       "Singapore                                  Flex\n",
       "South Korea                 Samsung Electronics\n",
       "Spain                           Banco Santander\n",
       "Sweden                   H & M Hennes & Mauritz\n",
       "Switzerland                              Nestle\n",
       "Taiwan               Hon Hai Precision Industry\n",
       "Thailand                                    PTT\n",
       "Turkey                              Koc Holding\n",
       "U.A.E                            Emirates Group\n",
       "USA                                     Walmart\n",
       "Venezuela       Mercantil Servicios Financieros\n",
       "Name: company, dtype: object"
      ]
     },
     "execution_count": 34,
     "metadata": {},
     "output_type": "execute_result"
    }
   ],
   "source": [
    "# Alternate of above\n",
    "top_employer_by_country = f500.sort_values(\"employees\", ascending = False).groupby(\"country\")[\"company\"].first()\n",
    "top_employer_by_country"
   ]
  },
  {
   "cell_type": "markdown",
   "metadata": {},
   "source": [
    "# Challenge"
   ]
  },
  {
   "cell_type": "markdown",
   "metadata": {},
   "source": [
    "We're going to add a new column to our dataframe, and then perform some aggregation using that new column.\n",
    "\n",
    "The column we create is going to contain a metric called `return on assets (ROA)`. `ROA` is a business-specific metric which indicates a companies ability to make profit using their available assets."
   ]
  },
  {
   "cell_type": "markdown",
   "metadata": {},
   "source": [
    "`return on assets = profit/assets`"
   ]
  },
  {
   "cell_type": "markdown",
   "metadata": {},
   "source": [
    "Once we've created the new column, we'll aggregate by `sector`, and find the company with the highest ROA from each sector"
   ]
  },
  {
   "cell_type": "code",
   "execution_count": 20,
   "metadata": {},
   "outputs": [
    {
     "data": {
      "text/plain": [
       "{'Retailing': 'H & M Hennes & Mauritz',\n",
       " 'Energy': 'National Grid',\n",
       " 'Motor Vehicles & Parts': 'Subaru',\n",
       " 'Financials': 'Berkshire Hathaway',\n",
       " 'Technology': 'Accenture',\n",
       " 'Wholesalers': 'McKesson',\n",
       " 'Health Care': 'Gilead Sciences',\n",
       " 'Telecommunications': 'KDDI',\n",
       " 'Engineering & Construction': 'Pacific Construction Group',\n",
       " 'Industrials': '3M',\n",
       " 'Food & Drug Stores': 'Publix Super Markets',\n",
       " 'Aerospace & Defense': 'Lockheed Martin',\n",
       " 'Food, Beverages & Tobacco': 'Philip Morris International',\n",
       " 'Household Products': 'Unilever',\n",
       " 'Transportation': 'Delta Air Lines',\n",
       " 'Materials': 'CRH',\n",
       " 'Chemicals': 'LyondellBasell Industries',\n",
       " 'Media': 'Disney',\n",
       " 'Apparel': 'Nike',\n",
       " 'Hotels, Restaurants & Leisure': 'McDonald’s',\n",
       " 'Business Services': 'Adecco Group'}"
      ]
     },
     "execution_count": 20,
     "metadata": {},
     "output_type": "execute_result"
    }
   ],
   "source": [
    "roa = f500[\"profits\"]/f500[\"assets\"]\n",
    "f500[\"roa\"] = roa\n",
    "\n",
    "top_roa_by_sector = {}\n",
    "\n",
    "sector = f500[\"sector\"].unique()\n",
    "for s in sector:\n",
    "    df = f500[f500[\"sector\"] == s]\n",
    "    sorted_df_roa = df.sort_values(\"roa\", ascending = False)\n",
    "    top_roa_company = sorted_df_roa[\"company\"].iloc[0]\n",
    "    top_roa_by_sector[s] = top_roa_company\n",
    "    \n",
    "    \n",
    "\n",
    "top_roa_by_sector  "
   ]
  },
  {
   "cell_type": "code",
   "execution_count": null,
   "metadata": {},
   "outputs": [],
   "source": []
  }
 ],
 "metadata": {
  "kernelspec": {
   "display_name": "Python 3",
   "language": "python",
   "name": "python3"
  },
  "language_info": {
   "codemirror_mode": {
    "name": "ipython",
    "version": 3
   },
   "file_extension": ".py",
   "mimetype": "text/x-python",
   "name": "python",
   "nbconvert_exporter": "python",
   "pygments_lexer": "ipython3",
   "version": "3.7.6"
  }
 },
 "nbformat": 4,
 "nbformat_minor": 2
}
